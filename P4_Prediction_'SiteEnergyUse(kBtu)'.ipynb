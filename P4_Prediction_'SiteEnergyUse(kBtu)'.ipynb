{
 "cells": [
  {
   "cell_type": "code",
   "execution_count": 3,
   "metadata": {},
   "outputs": [],
   "source": [
    "import pandas as pd"
   ]
  },
  {
   "cell_type": "code",
   "execution_count": 4,
   "metadata": {},
   "outputs": [],
   "source": [
    "df3 = pd.read_csv('Data_Cleaned.csv')"
   ]
  },
  {
   "cell_type": "code",
   "execution_count": 190,
   "metadata": {},
   "outputs": [
    {
     "data": {
      "text/html": [
       "<div>\n",
       "<style scoped>\n",
       "    .dataframe tbody tr th:only-of-type {\n",
       "        vertical-align: middle;\n",
       "    }\n",
       "\n",
       "    .dataframe tbody tr th {\n",
       "        vertical-align: top;\n",
       "    }\n",
       "\n",
       "    .dataframe thead th {\n",
       "        text-align: right;\n",
       "    }\n",
       "</style>\n",
       "<table border=\"1\" class=\"dataframe\">\n",
       "  <thead>\n",
       "    <tr style=\"text-align: right;\">\n",
       "      <th></th>\n",
       "      <th>Unnamed: 0</th>\n",
       "      <th>PrimaryPropertyType</th>\n",
       "      <th>Neighborhood</th>\n",
       "      <th>YearBuilt</th>\n",
       "      <th>NumberofFloors</th>\n",
       "      <th>PropertyGFATotal</th>\n",
       "      <th>PropertyGFAParking</th>\n",
       "      <th>PropertyGFABuilding(s)</th>\n",
       "      <th>ENERGYSTARScore</th>\n",
       "      <th>SiteEUI(kBtu/sf)</th>\n",
       "      <th>SiteEUIWN(kBtu/sf)</th>\n",
       "      <th>SourceEUI(kBtu/sf)</th>\n",
       "      <th>SourceEUIWN(kBtu/sf)</th>\n",
       "      <th>SiteEnergyUse(kBtu)</th>\n",
       "      <th>SteamUse(kBtu)</th>\n",
       "      <th>NaturalGas(therms)</th>\n",
       "      <th>NaturalGas(kBtu)</th>\n",
       "      <th>TotalGHGEmissions</th>\n",
       "      <th>GHGEmissionsIntensity</th>\n",
       "    </tr>\n",
       "  </thead>\n",
       "  <tbody>\n",
       "    <tr>\n",
       "      <th>0</th>\n",
       "      <td>0</td>\n",
       "      <td>4</td>\n",
       "      <td>5</td>\n",
       "      <td>1927</td>\n",
       "      <td>12.0</td>\n",
       "      <td>88434</td>\n",
       "      <td>0</td>\n",
       "      <td>88434</td>\n",
       "      <td>65.0</td>\n",
       "      <td>78.9</td>\n",
       "      <td>80.3</td>\n",
       "      <td>173.5</td>\n",
       "      <td>175.1</td>\n",
       "      <td>6981428.0</td>\n",
       "      <td>2023032.0</td>\n",
       "      <td>12724.0</td>\n",
       "      <td>1272388.0</td>\n",
       "      <td>249.43</td>\n",
       "      <td>2.64</td>\n",
       "    </tr>\n",
       "    <tr>\n",
       "      <th>1</th>\n",
       "      <td>1</td>\n",
       "      <td>4</td>\n",
       "      <td>5</td>\n",
       "      <td>1996</td>\n",
       "      <td>11.0</td>\n",
       "      <td>103566</td>\n",
       "      <td>15064</td>\n",
       "      <td>88502</td>\n",
       "      <td>51.0</td>\n",
       "      <td>94.4</td>\n",
       "      <td>99.0</td>\n",
       "      <td>191.3</td>\n",
       "      <td>195.2</td>\n",
       "      <td>8354235.0</td>\n",
       "      <td>0.0</td>\n",
       "      <td>44490.0</td>\n",
       "      <td>4448985.0</td>\n",
       "      <td>263.51</td>\n",
       "      <td>2.38</td>\n",
       "    </tr>\n",
       "    <tr>\n",
       "      <th>2</th>\n",
       "      <td>2</td>\n",
       "      <td>4</td>\n",
       "      <td>5</td>\n",
       "      <td>1969</td>\n",
       "      <td>41.0</td>\n",
       "      <td>961990</td>\n",
       "      <td>0</td>\n",
       "      <td>961990</td>\n",
       "      <td>18.0</td>\n",
       "      <td>96.6</td>\n",
       "      <td>99.7</td>\n",
       "      <td>242.7</td>\n",
       "      <td>246.5</td>\n",
       "      <td>73130656.0</td>\n",
       "      <td>19660404.0</td>\n",
       "      <td>37099.0</td>\n",
       "      <td>3709900.0</td>\n",
       "      <td>2061.48</td>\n",
       "      <td>1.92</td>\n",
       "    </tr>\n",
       "  </tbody>\n",
       "</table>\n",
       "</div>"
      ],
      "text/plain": [
       "   Unnamed: 0  PrimaryPropertyType  Neighborhood  YearBuilt  NumberofFloors  \\\n",
       "0           0                    4             5       1927            12.0   \n",
       "1           1                    4             5       1996            11.0   \n",
       "2           2                    4             5       1969            41.0   \n",
       "\n",
       "   PropertyGFATotal  PropertyGFAParking  PropertyGFABuilding(s)  \\\n",
       "0             88434                   0                   88434   \n",
       "1            103566               15064                   88502   \n",
       "2            961990                   0                  961990   \n",
       "\n",
       "   ENERGYSTARScore  SiteEUI(kBtu/sf)  SiteEUIWN(kBtu/sf)  SourceEUI(kBtu/sf)  \\\n",
       "0             65.0              78.9                80.3               173.5   \n",
       "1             51.0              94.4                99.0               191.3   \n",
       "2             18.0              96.6                99.7               242.7   \n",
       "\n",
       "   SourceEUIWN(kBtu/sf)  SiteEnergyUse(kBtu)  SteamUse(kBtu)  \\\n",
       "0                 175.1            6981428.0       2023032.0   \n",
       "1                 195.2            8354235.0             0.0   \n",
       "2                 246.5           73130656.0      19660404.0   \n",
       "\n",
       "   NaturalGas(therms)  NaturalGas(kBtu)  TotalGHGEmissions  \\\n",
       "0             12724.0         1272388.0             249.43   \n",
       "1             44490.0         4448985.0             263.51   \n",
       "2             37099.0         3709900.0            2061.48   \n",
       "\n",
       "   GHGEmissionsIntensity  \n",
       "0                   2.64  \n",
       "1                   2.38  \n",
       "2                   1.92  "
      ]
     },
     "execution_count": 190,
     "metadata": {},
     "output_type": "execute_result"
    }
   ],
   "source": [
    "df3.head(3)"
   ]
  },
  {
   "cell_type": "code",
   "execution_count": 5,
   "metadata": {},
   "outputs": [],
   "source": [
    "del df3['Unnamed: 0']"
   ]
  },
  {
   "cell_type": "code",
   "execution_count": 193,
   "metadata": {},
   "outputs": [
    {
     "data": {
      "text/html": [
       "<div>\n",
       "<style scoped>\n",
       "    .dataframe tbody tr th:only-of-type {\n",
       "        vertical-align: middle;\n",
       "    }\n",
       "\n",
       "    .dataframe tbody tr th {\n",
       "        vertical-align: top;\n",
       "    }\n",
       "\n",
       "    .dataframe thead th {\n",
       "        text-align: right;\n",
       "    }\n",
       "</style>\n",
       "<table border=\"1\" class=\"dataframe\">\n",
       "  <thead>\n",
       "    <tr style=\"text-align: right;\">\n",
       "      <th></th>\n",
       "      <th>PrimaryPropertyType</th>\n",
       "      <th>Neighborhood</th>\n",
       "      <th>YearBuilt</th>\n",
       "      <th>NumberofFloors</th>\n",
       "      <th>PropertyGFATotal</th>\n",
       "      <th>PropertyGFAParking</th>\n",
       "      <th>PropertyGFABuilding(s)</th>\n",
       "      <th>ENERGYSTARScore</th>\n",
       "      <th>SiteEUI(kBtu/sf)</th>\n",
       "      <th>SiteEUIWN(kBtu/sf)</th>\n",
       "      <th>SourceEUI(kBtu/sf)</th>\n",
       "      <th>SourceEUIWN(kBtu/sf)</th>\n",
       "      <th>SiteEnergyUse(kBtu)</th>\n",
       "      <th>SteamUse(kBtu)</th>\n",
       "      <th>NaturalGas(therms)</th>\n",
       "      <th>NaturalGas(kBtu)</th>\n",
       "      <th>TotalGHGEmissions</th>\n",
       "      <th>GHGEmissionsIntensity</th>\n",
       "    </tr>\n",
       "  </thead>\n",
       "  <tbody>\n",
       "    <tr>\n",
       "      <th>0</th>\n",
       "      <td>4</td>\n",
       "      <td>5</td>\n",
       "      <td>1927</td>\n",
       "      <td>12.0</td>\n",
       "      <td>88434</td>\n",
       "      <td>0</td>\n",
       "      <td>88434</td>\n",
       "      <td>65.0</td>\n",
       "      <td>78.9</td>\n",
       "      <td>80.3</td>\n",
       "      <td>173.5</td>\n",
       "      <td>175.1</td>\n",
       "      <td>6981428.0</td>\n",
       "      <td>2023032.0</td>\n",
       "      <td>12724.0</td>\n",
       "      <td>1272388.0</td>\n",
       "      <td>249.43</td>\n",
       "      <td>2.64</td>\n",
       "    </tr>\n",
       "    <tr>\n",
       "      <th>1</th>\n",
       "      <td>4</td>\n",
       "      <td>5</td>\n",
       "      <td>1996</td>\n",
       "      <td>11.0</td>\n",
       "      <td>103566</td>\n",
       "      <td>15064</td>\n",
       "      <td>88502</td>\n",
       "      <td>51.0</td>\n",
       "      <td>94.4</td>\n",
       "      <td>99.0</td>\n",
       "      <td>191.3</td>\n",
       "      <td>195.2</td>\n",
       "      <td>8354235.0</td>\n",
       "      <td>0.0</td>\n",
       "      <td>44490.0</td>\n",
       "      <td>4448985.0</td>\n",
       "      <td>263.51</td>\n",
       "      <td>2.38</td>\n",
       "    </tr>\n",
       "    <tr>\n",
       "      <th>2</th>\n",
       "      <td>4</td>\n",
       "      <td>5</td>\n",
       "      <td>1969</td>\n",
       "      <td>41.0</td>\n",
       "      <td>961990</td>\n",
       "      <td>0</td>\n",
       "      <td>961990</td>\n",
       "      <td>18.0</td>\n",
       "      <td>96.6</td>\n",
       "      <td>99.7</td>\n",
       "      <td>242.7</td>\n",
       "      <td>246.5</td>\n",
       "      <td>73130656.0</td>\n",
       "      <td>19660404.0</td>\n",
       "      <td>37099.0</td>\n",
       "      <td>3709900.0</td>\n",
       "      <td>2061.48</td>\n",
       "      <td>1.92</td>\n",
       "    </tr>\n",
       "  </tbody>\n",
       "</table>\n",
       "</div>"
      ],
      "text/plain": [
       "   PrimaryPropertyType  Neighborhood  YearBuilt  NumberofFloors  \\\n",
       "0                    4             5       1927            12.0   \n",
       "1                    4             5       1996            11.0   \n",
       "2                    4             5       1969            41.0   \n",
       "\n",
       "   PropertyGFATotal  PropertyGFAParking  PropertyGFABuilding(s)  \\\n",
       "0             88434                   0                   88434   \n",
       "1            103566               15064                   88502   \n",
       "2            961990                   0                  961990   \n",
       "\n",
       "   ENERGYSTARScore  SiteEUI(kBtu/sf)  SiteEUIWN(kBtu/sf)  SourceEUI(kBtu/sf)  \\\n",
       "0             65.0              78.9                80.3               173.5   \n",
       "1             51.0              94.4                99.0               191.3   \n",
       "2             18.0              96.6                99.7               242.7   \n",
       "\n",
       "   SourceEUIWN(kBtu/sf)  SiteEnergyUse(kBtu)  SteamUse(kBtu)  \\\n",
       "0                 175.1            6981428.0       2023032.0   \n",
       "1                 195.2            8354235.0             0.0   \n",
       "2                 246.5           73130656.0      19660404.0   \n",
       "\n",
       "   NaturalGas(therms)  NaturalGas(kBtu)  TotalGHGEmissions  \\\n",
       "0             12724.0         1272388.0             249.43   \n",
       "1             44490.0         4448985.0             263.51   \n",
       "2             37099.0         3709900.0            2061.48   \n",
       "\n",
       "   GHGEmissionsIntensity  \n",
       "0                   2.64  \n",
       "1                   2.38  \n",
       "2                   1.92  "
      ]
     },
     "execution_count": 193,
     "metadata": {},
     "output_type": "execute_result"
    }
   ],
   "source": [
    "df3.head(3)"
   ]
  },
  {
   "cell_type": "code",
   "execution_count": null,
   "metadata": {},
   "outputs": [],
   "source": []
  },
  {
   "cell_type": "markdown",
   "metadata": {},
   "source": [
    "# Application de qlq algo simple : OK"
   ]
  },
  {
   "cell_type": "markdown",
   "metadata": {},
   "source": [
    "## REGRESSION MULTIPLE"
   ]
  },
  {
   "cell_type": "markdown",
   "metadata": {},
   "source": [
    "Creons un modele moins complexe, entrainons le puis réalisons une prediction dessus"
   ]
  },
  {
   "cell_type": "code",
   "execution_count": 10,
   "metadata": {},
   "outputs": [],
   "source": [
    "Y_S = df3['SiteEnergyUse(kBtu)']"
   ]
  },
  {
   "cell_type": "code",
   "execution_count": 24,
   "metadata": {},
   "outputs": [],
   "source": [
    "X_ss = df3[['PrimaryPropertyType','Neighborhood', 'YearBuilt', 'NumberofFloors', 'PropertyGFATotal']]"
   ]
  },
  {
   "cell_type": "code",
   "execution_count": 22,
   "metadata": {},
   "outputs": [],
   "source": [
    "from sklearn.model_selection import train_test_split"
   ]
  },
  {
   "cell_type": "code",
   "execution_count": 25,
   "metadata": {},
   "outputs": [],
   "source": [
    "x1tr, x1tst, y1tr, y1ts = train_test_split(X_ss, Y_S, test_size = .2)"
   ]
  },
  {
   "cell_type": "code",
   "execution_count": 16,
   "metadata": {},
   "outputs": [],
   "source": [
    "from sklearn.linear_model import LinearRegression"
   ]
  },
  {
   "cell_type": "code",
   "execution_count": 26,
   "metadata": {},
   "outputs": [],
   "source": [
    "Regresseur = LinearRegression()\n",
    "Regresseur.fit(x1tr, y1tr)\n",
    "y_pred_site = Regresseur.predict(x1tst)"
   ]
  },
  {
   "cell_type": "code",
   "execution_count": 27,
   "metadata": {},
   "outputs": [],
   "source": [
    "from sklearn.metrics import mean_squared_error, r2_score"
   ]
  },
  {
   "cell_type": "code",
   "execution_count": 268,
   "metadata": {},
   "outputs": [
    {
     "name": "stdout",
     "output_type": "stream",
     "text": [
      "r2_score :  49.120000000000005 %\n",
      "RMSE : 15036364.78\n"
     ]
    }
   ],
   "source": [
    "#================ VERIFIONS L'EXACTITUDE =====================\n",
    "\n",
    "# Note : r2_score() nous donnes aussi une precision sur la prediction\n",
    "\n",
    "print('r2_score : ', r2_score(y1ts, y_pred_site).round(4)*100, '%')\n",
    "\n",
    "print(\"RMSE : {:.2f}\".format(np.sqrt(mean_squared_error(y1ts, y_pred_site) )))"
   ]
  },
  {
   "cell_type": "markdown",
   "metadata": {},
   "source": [
    "On a un score pas terrible du tout ):"
   ]
  },
  {
   "cell_type": "markdown",
   "metadata": {},
   "source": [
    "Nous allons donc créer un deuxième plus complexe pour le confronter avec le premier ..."
   ]
  },
  {
   "cell_type": "code",
   "execution_count": 69,
   "metadata": {},
   "outputs": [],
   "source": [
    "X_S = df3.drop(columns=['SiteEnergyUse(kBtu)', 'TotalGHGEmissions'])\n"
   ]
  },
  {
   "cell_type": "code",
   "execution_count": 70,
   "metadata": {},
   "outputs": [],
   "source": [
    "x_train_Site, x_test_Site, y_train_site, y_test_site = train_test_split(X_S, Y_S, test_size = .2)"
   ]
  },
  {
   "cell_type": "markdown",
   "metadata": {},
   "source": [
    "Standardisons nos données comme souligné dans le notebook Nettoyage et exploration"
   ]
  },
  {
   "cell_type": "code",
   "execution_count": 30,
   "metadata": {},
   "outputs": [],
   "source": [
    "from sklearn.preprocessing import StandardScaler"
   ]
  },
  {
   "cell_type": "code",
   "execution_count": 71,
   "metadata": {},
   "outputs": [
    {
     "data": {
      "text/plain": [
       "StandardScaler()"
      ]
     },
     "execution_count": 71,
     "metadata": {},
     "output_type": "execute_result"
    }
   ],
   "source": [
    "scaler = StandardScaler()\n",
    "scaler.fit(x_train_Site)\n",
    "scaler.fit(x_test_Site)"
   ]
  },
  {
   "cell_type": "code",
   "execution_count": 72,
   "metadata": {},
   "outputs": [],
   "source": [
    "x_train_Site, x_test_Site = scaler.fit_transform(x_train_Site), scaler.fit_transform(x_test_Site)"
   ]
  },
  {
   "cell_type": "code",
   "execution_count": 33,
   "metadata": {},
   "outputs": [],
   "source": [
    "# Construction du 2ème modèle\n",
    "regressor_amel = LinearRegression()"
   ]
  },
  {
   "cell_type": "code",
   "execution_count": 73,
   "metadata": {},
   "outputs": [
    {
     "data": {
      "text/plain": [
       "LinearRegression()"
      ]
     },
     "execution_count": 73,
     "metadata": {},
     "output_type": "execute_result"
    }
   ],
   "source": [
    "# J'adapte le modèle de regression linéaire à l'ensemble de données d'apprentissage.\n",
    "regressor_amel.fit(x_train_Site, y_train_site)"
   ]
  },
  {
   "cell_type": "code",
   "execution_count": 74,
   "metadata": {},
   "outputs": [],
   "source": [
    "\n",
    "# Faire de nouvelles prédictions\n",
    "y_pred1 = regressor_amel.predict(x_test_Site)\n"
   ]
  },
  {
   "cell_type": "code",
   "execution_count": 20,
   "metadata": {},
   "outputs": [],
   "source": [
    "import numpy as np"
   ]
  },
  {
   "cell_type": "code",
   "execution_count": 75,
   "metadata": {},
   "outputs": [
    {
     "name": "stdout",
     "output_type": "stream",
     "text": [
      "R2_Score :  85.82 %\n",
      "\n",
      "RMSE : 6144049.97\n"
     ]
    }
   ],
   "source": [
    "#================ VERIFIONS L'EXACTITUDE =====================\n",
    "\n",
    "# Note : r2_score() nous donnes aussi une precision sur la prediction\n",
    "\n",
    "print('R2_Score : ', r2_score(y_test_site, y_pred1).round(4)*100, '%')\n",
    "\n",
    "# un bon modele doit avoir un RMSE < 180\n",
    "print(\"\\nRMSE : {:.2f}\".format(np.sqrt(mean_squared_error(y_test_site, y_pred1) )))\n",
    "\n"
   ]
  },
  {
   "cell_type": "markdown",
   "metadata": {},
   "source": [
    "J'ai certes reussi à augmenter de performances avec le nouveau modele (plus complexe), mais son score de prediction reste toujours à désirer ):"
   ]
  },
  {
   "cell_type": "code",
   "execution_count": null,
   "metadata": {},
   "outputs": [],
   "source": []
  },
  {
   "cell_type": "markdown",
   "metadata": {},
   "source": [
    "## RIDGE"
   ]
  },
  {
   "cell_type": "code",
   "execution_count": 223,
   "metadata": {},
   "outputs": [],
   "source": [
    "from sklearn import kernel_ridge\n",
    "#x_train_Site, x_test_Site, y_train_site, y_test_site"
   ]
  },
  {
   "cell_type": "code",
   "execution_count": 224,
   "metadata": {},
   "outputs": [],
   "source": [
    "predicteur = kernel_ridge.KernelRidge()   "
   ]
  },
  {
   "cell_type": "code",
   "execution_count": 225,
   "metadata": {},
   "outputs": [
    {
     "data": {
      "text/plain": [
       "KernelRidge()"
      ]
     },
     "execution_count": 225,
     "metadata": {},
     "output_type": "execute_result"
    }
   ],
   "source": [
    "# entraîner le classifieur sur le jeu d'entrainement\n",
    "predicteur.fit(x_train_Site, y_train_site)"
   ]
  },
  {
   "cell_type": "code",
   "execution_count": 226,
   "metadata": {},
   "outputs": [],
   "source": [
    "\n",
    "# prédire sur le jeu de test\n",
    "y_test_pred_ridge = predicteur.predict(x_test_Site)\n"
   ]
  },
  {
   "cell_type": "code",
   "execution_count": 227,
   "metadata": {},
   "outputs": [
    {
     "data": {
      "text/plain": [
       "((2277,), (570,))"
      ]
     },
     "execution_count": 227,
     "metadata": {},
     "output_type": "execute_result"
    }
   ],
   "source": [
    "(y_train_site.shape, y_test_pred_ridge.shape)"
   ]
  },
  {
   "cell_type": "code",
   "execution_count": 228,
   "metadata": {},
   "outputs": [
    {
     "name": "stdout",
     "output_type": "stream",
     "text": [
      "RMSE: 9594937.86\n",
      "R2_score :  71.25 %\n"
     ]
    }
   ],
   "source": [
    "# calculer la RMSE sur le jeu de test\n",
    "rmse = np.sqrt(mean_squared_error(y_test_site, y_test_pred_ridge))\n",
    "print(\"RMSE: {:.2f}\".format(rmse))\n",
    "\n",
    "print('R2_score : ', r2_score(y_test_site, y_test_pred_ridge).round(4)*100, '%')"
   ]
  },
  {
   "cell_type": "code",
   "execution_count": 229,
   "metadata": {},
   "outputs": [],
   "source": [
    "from sklearn.model_selection import GridSearchCV"
   ]
  },
  {
   "cell_type": "code",
   "execution_count": 230,
   "metadata": {},
   "outputs": [
    {
     "data": {
      "text/plain": [
       "GridSearchCV(cv=5, estimator=KernelRidge(),\n",
       "             param_grid={'alpha': array([1.e-02, 1.e-01, 1.e+00, 1.e+01, 1.e+02]),\n",
       "                         'gamma': array([ 0.01,  0.1 ,  1.  , 10.  ]),\n",
       "                         'kernel': ['rbf', 'linear', 'poly']},\n",
       "             scoring='neg_mean_squared_error')"
      ]
     },
     "execution_count": 230,
     "metadata": {},
     "output_type": "execute_result"
    }
   ],
   "source": [
    "# valeurs du paramètre C\n",
    "alpha_range = np.logspace(-2, 2, 5)\n",
    "\n",
    "# valeurs du paramètre gamma\n",
    "gamma_range = np.logspace(-2, 1, 4)\n",
    "\n",
    "# valeurs du paramètre kernel\n",
    "ker = ['rbf', 'linear', 'poly']\n",
    "# grille de paramètres\n",
    "param_grid = {'kernel':ker, 'alpha': alpha_range, 'gamma': gamma_range}\n",
    "\n",
    "# score pour sélectionner le modèle optimal\n",
    "score = 'neg_mean_squared_error'\n",
    "\n",
    "# initialiser la validation croisée\n",
    "grid_pred = GridSearchCV(\n",
    "        kernel_ridge.KernelRidge(),\n",
    "        param_grid,\n",
    "        cv=5,\n",
    "        scoring=score)\n",
    "                                    \n",
    "# exécuter la validation croisée sur le jeu d'entraînement\n",
    "grid_pred.fit(x_train_Site, y_train_site)\n",
    "\n",
    "\n"
   ]
  },
  {
   "cell_type": "code",
   "execution_count": 231,
   "metadata": {},
   "outputs": [],
   "source": [
    "# prédire sur le jeu de test avec le modèle sélectionné \n",
    "y_test_pred_cv = grid_pred.predict(x_test_Site)\n"
   ]
  },
  {
   "cell_type": "code",
   "execution_count": 233,
   "metadata": {},
   "outputs": [
    {
     "name": "stdout",
     "output_type": "stream",
     "text": [
      "RMSE :  3975662.6420987933\n",
      "R2_score :  95.06 %\n"
     ]
    }
   ],
   "source": [
    "print('RMSE : ', np.sqrt(mean_squared_error(y_test_site, y_test_pred_cv)))\n",
    "print('R2_score : ', r2_score(y_test_site, y_test_pred_cv).round(4)*100, '%')"
   ]
  },
  {
   "cell_type": "code",
   "execution_count": 234,
   "metadata": {},
   "outputs": [
    {
     "name": "stdout",
     "output_type": "stream",
     "text": [
      "les paramètres optimaux sont : {'alpha': 0.1, 'gamma': 0.01, 'kernel': 'poly'}\n"
     ]
    }
   ],
   "source": [
    "# afficher les paramètres optimaux\n",
    "print(\"les paramètres optimaux sont : {}\".format(grid_pred.best_params_))"
   ]
  },
  {
   "cell_type": "code",
   "execution_count": null,
   "metadata": {},
   "outputs": [],
   "source": []
  },
  {
   "cell_type": "markdown",
   "metadata": {},
   "source": [
    "J'ai certes reussi à améliorer les perfomances du modèle avec le gridsearchCV avec un score pas mal du tout, mais on peut encore avoir mieux ..."
   ]
  },
  {
   "cell_type": "markdown",
   "metadata": {},
   "source": [
    "Nous allons faire appel à la grosse artillerie : les forêts aléatoires\n",
    "\n",
    "Elles marchent toujours :)"
   ]
  },
  {
   "cell_type": "markdown",
   "metadata": {},
   "source": [
    "# RANDOM FOREST"
   ]
  },
  {
   "cell_type": "code",
   "execution_count": 76,
   "metadata": {},
   "outputs": [],
   "source": [
    "from sklearn.ensemble import RandomForestRegressor"
   ]
  },
  {
   "cell_type": "code",
   "execution_count": 77,
   "metadata": {},
   "outputs": [],
   "source": [
    "rfr1 = RandomForestRegressor()"
   ]
  },
  {
   "cell_type": "code",
   "execution_count": 90,
   "metadata": {},
   "outputs": [],
   "source": [
    "scaler = StandardScaler()\n",
    "scaler.fit(x_train_Site)\n",
    "scaler.fit(x_test_Site)\n",
    "x_train_Site, x_test_Site = scaler.fit_transform(x_train_Site), scaler.fit_transform(x_test_Site)"
   ]
  },
  {
   "cell_type": "markdown",
   "metadata": {},
   "source": [
    "Voyons les performances de ce modèle sur le jeu de données d'entraînement"
   ]
  },
  {
   "cell_type": "code",
   "execution_count": 80,
   "metadata": {},
   "outputs": [],
   "source": [
    "rfr1.fit(x_train_Site, y_train_site)\n",
    "pred1 = rfr1.predict(x_test_Site)"
   ]
  },
  {
   "cell_type": "code",
   "execution_count": 81,
   "metadata": {},
   "outputs": [
    {
     "name": "stdout",
     "output_type": "stream",
     "text": [
      "RMSE :  5288285.708092341\n",
      "R2_score :  89.5 %\n"
     ]
    }
   ],
   "source": [
    "print('RMSE : ', np.sqrt(mean_squared_error(y_test_site, pred1)))\n",
    "print('R2_score : ', r2_score(y_test_site, pred1).round(4)*100, '%')"
   ]
  },
  {
   "cell_type": "markdown",
   "metadata": {},
   "source": [
    "Effectuons une recherche sur grille pour de meilleurs performances"
   ]
  },
  {
   "cell_type": "code",
   "execution_count": 86,
   "metadata": {},
   "outputs": [
    {
     "data": {
      "text/plain": [
       "GridSearchCV(cv=5, estimator=RandomForestRegressor(),\n",
       "             param_grid={'max_depth': [10, 20], 'n_estimators': [500, 600],\n",
       "                         'oob_score': [True, False]})"
      ]
     },
     "execution_count": 86,
     "metadata": {},
     "output_type": "execute_result"
    }
   ],
   "source": [
    "from sklearn.model_selection import GridSearchCV\n",
    "\n",
    "param_grid = {\n",
    "                 'n_estimators': [500,600],\n",
    "                 'max_depth': [10,20],\n",
    "                'oob_score' : [True, False]\n",
    "             }\n",
    "\n",
    "grid_clf = GridSearchCV(rfr1, param_grid, cv=5)\n",
    "grid_clf.fit(x_train_Site, y_train_site)"
   ]
  },
  {
   "cell_type": "code",
   "execution_count": 87,
   "metadata": {},
   "outputs": [],
   "source": [
    "pred2 = grid_clf.predict(x_test_Site)"
   ]
  },
  {
   "cell_type": "code",
   "execution_count": 88,
   "metadata": {},
   "outputs": [
    {
     "name": "stdout",
     "output_type": "stream",
     "text": [
      "les paramètres optimaux sont : {'max_depth': 10, 'n_estimators': 500, 'oob_score': True}\n"
     ]
    }
   ],
   "source": [
    "print(\"les paramètres optimaux sont : {}\".format(grid_clf.best_params_))"
   ]
  },
  {
   "cell_type": "code",
   "execution_count": null,
   "metadata": {},
   "outputs": [],
   "source": [
    "print('RMSE : ', np.sqrt(mean_squared_error(y_test_site, pred2)))\n",
    "print('R2_score : ', r2_score(y_test_site, pred2).round(4)*100, '%')"
   ]
  },
  {
   "cell_type": "markdown",
   "metadata": {},
   "source": [
    "RMSE :  3696386.403654376\n",
    "\n",
    "R2_score :  96.98000000001 %"
   ]
  },
  {
   "cell_type": "markdown",
   "metadata": {},
   "source": [
    "Pas mal 😎 !"
   ]
  },
  {
   "cell_type": "code",
   "execution_count": null,
   "metadata": {},
   "outputs": [],
   "source": []
  },
  {
   "cell_type": "markdown",
   "metadata": {},
   "source": [
    "## XGBOOST"
   ]
  },
  {
   "cell_type": "code",
   "execution_count": 37,
   "metadata": {},
   "outputs": [],
   "source": [
    "import xgboost as xgb\n",
    "#x_train_Site, x_test_Site, y_train_site, y_test_site"
   ]
  },
  {
   "cell_type": "code",
   "execution_count": 62,
   "metadata": {},
   "outputs": [],
   "source": [
    "X_S = df3.drop(columns=['SiteEnergyUse(kBtu)'])\n",
    "Y_S = df3['SiteEnergyUse(kBtu)']"
   ]
  },
  {
   "cell_type": "code",
   "execution_count": 63,
   "metadata": {},
   "outputs": [
    {
     "data": {
      "text/html": [
       "<div>\n",
       "<style scoped>\n",
       "    .dataframe tbody tr th:only-of-type {\n",
       "        vertical-align: middle;\n",
       "    }\n",
       "\n",
       "    .dataframe tbody tr th {\n",
       "        vertical-align: top;\n",
       "    }\n",
       "\n",
       "    .dataframe thead th {\n",
       "        text-align: right;\n",
       "    }\n",
       "</style>\n",
       "<table border=\"1\" class=\"dataframe\">\n",
       "  <thead>\n",
       "    <tr style=\"text-align: right;\">\n",
       "      <th></th>\n",
       "      <th>PrimaryPropertyType</th>\n",
       "      <th>Neighborhood</th>\n",
       "      <th>YearBuilt</th>\n",
       "      <th>NumberofFloors</th>\n",
       "      <th>PropertyGFATotal</th>\n",
       "      <th>PropertyGFAParking</th>\n",
       "      <th>PropertyGFABuilding(s)</th>\n",
       "      <th>ENERGYSTARScore</th>\n",
       "      <th>SiteEUI(kBtu/sf)</th>\n",
       "      <th>SiteEUIWN(kBtu/sf)</th>\n",
       "      <th>SourceEUI(kBtu/sf)</th>\n",
       "      <th>SourceEUIWN(kBtu/sf)</th>\n",
       "      <th>SteamUse(kBtu)</th>\n",
       "      <th>NaturalGas(therms)</th>\n",
       "      <th>NaturalGas(kBtu)</th>\n",
       "      <th>TotalGHGEmissions</th>\n",
       "      <th>GHGEmissionsIntensity</th>\n",
       "    </tr>\n",
       "  </thead>\n",
       "  <tbody>\n",
       "    <tr>\n",
       "      <th>0</th>\n",
       "      <td>4</td>\n",
       "      <td>5</td>\n",
       "      <td>1927</td>\n",
       "      <td>12.0</td>\n",
       "      <td>88434</td>\n",
       "      <td>0</td>\n",
       "      <td>88434</td>\n",
       "      <td>65.0</td>\n",
       "      <td>78.9</td>\n",
       "      <td>80.3</td>\n",
       "      <td>173.5</td>\n",
       "      <td>175.1</td>\n",
       "      <td>2023032.0</td>\n",
       "      <td>12724.0</td>\n",
       "      <td>1272388.0</td>\n",
       "      <td>249.43</td>\n",
       "      <td>2.64</td>\n",
       "    </tr>\n",
       "    <tr>\n",
       "      <th>1</th>\n",
       "      <td>4</td>\n",
       "      <td>5</td>\n",
       "      <td>1996</td>\n",
       "      <td>11.0</td>\n",
       "      <td>103566</td>\n",
       "      <td>15064</td>\n",
       "      <td>88502</td>\n",
       "      <td>51.0</td>\n",
       "      <td>94.4</td>\n",
       "      <td>99.0</td>\n",
       "      <td>191.3</td>\n",
       "      <td>195.2</td>\n",
       "      <td>0.0</td>\n",
       "      <td>44490.0</td>\n",
       "      <td>4448985.0</td>\n",
       "      <td>263.51</td>\n",
       "      <td>2.38</td>\n",
       "    </tr>\n",
       "    <tr>\n",
       "      <th>2</th>\n",
       "      <td>4</td>\n",
       "      <td>5</td>\n",
       "      <td>1969</td>\n",
       "      <td>41.0</td>\n",
       "      <td>961990</td>\n",
       "      <td>0</td>\n",
       "      <td>961990</td>\n",
       "      <td>18.0</td>\n",
       "      <td>96.6</td>\n",
       "      <td>99.7</td>\n",
       "      <td>242.7</td>\n",
       "      <td>246.5</td>\n",
       "      <td>19660404.0</td>\n",
       "      <td>37099.0</td>\n",
       "      <td>3709900.0</td>\n",
       "      <td>2061.48</td>\n",
       "      <td>1.92</td>\n",
       "    </tr>\n",
       "  </tbody>\n",
       "</table>\n",
       "</div>"
      ],
      "text/plain": [
       "   PrimaryPropertyType  Neighborhood  YearBuilt  NumberofFloors  \\\n",
       "0                    4             5       1927            12.0   \n",
       "1                    4             5       1996            11.0   \n",
       "2                    4             5       1969            41.0   \n",
       "\n",
       "   PropertyGFATotal  PropertyGFAParking  PropertyGFABuilding(s)  \\\n",
       "0             88434                   0                   88434   \n",
       "1            103566               15064                   88502   \n",
       "2            961990                   0                  961990   \n",
       "\n",
       "   ENERGYSTARScore  SiteEUI(kBtu/sf)  SiteEUIWN(kBtu/sf)  SourceEUI(kBtu/sf)  \\\n",
       "0             65.0              78.9                80.3               173.5   \n",
       "1             51.0              94.4                99.0               191.3   \n",
       "2             18.0              96.6                99.7               242.7   \n",
       "\n",
       "   SourceEUIWN(kBtu/sf)  SteamUse(kBtu)  NaturalGas(therms)  NaturalGas(kBtu)  \\\n",
       "0                 175.1       2023032.0             12724.0         1272388.0   \n",
       "1                 195.2             0.0             44490.0         4448985.0   \n",
       "2                 246.5      19660404.0             37099.0         3709900.0   \n",
       "\n",
       "   TotalGHGEmissions  GHGEmissionsIntensity  \n",
       "0             249.43                   2.64  \n",
       "1             263.51                   2.38  \n",
       "2            2061.48                   1.92  "
      ]
     },
     "execution_count": 63,
     "metadata": {},
     "output_type": "execute_result"
    }
   ],
   "source": [
    "X_S.head(3)"
   ]
  },
  {
   "cell_type": "code",
   "execution_count": 64,
   "metadata": {},
   "outputs": [],
   "source": [
    "x_train_Site, x_test_Site, y_train_site, y_test_site = train_test_split(X_S, Y_S, test_size = .2)"
   ]
  },
  {
   "cell_type": "code",
   "execution_count": 65,
   "metadata": {},
   "outputs": [
    {
     "data": {
      "text/plain": [
       "StandardScaler()"
      ]
     },
     "execution_count": 65,
     "metadata": {},
     "output_type": "execute_result"
    }
   ],
   "source": [
    "scaler = StandardScaler()\n",
    "scaler.fit(x_train_Site)\n",
    "scaler.fit(x_test_Site)"
   ]
  },
  {
   "cell_type": "code",
   "execution_count": 56,
   "metadata": {},
   "outputs": [],
   "source": [
    "x_train_Site, x_test_Site = scaler.fit_transform(x_train_Site), scaler.fit_transform(x_test_Site)"
   ]
  },
  {
   "cell_type": "markdown",
   "metadata": {},
   "source": [
    "L'étape suivante consiste à instancier un objet régresseur XGBoost en appelant la classe XGBRegressor() de la bibliothèque XGBoost avec les hyper-paramètres passés en arguments."
   ]
  },
  {
   "cell_type": "code",
   "execution_count": 66,
   "metadata": {},
   "outputs": [],
   "source": [
    "xg_reg1 = xgb.XGBRegressor()"
   ]
  },
  {
   "cell_type": "code",
   "execution_count": null,
   "metadata": {},
   "outputs": [],
   "source": [
    "objective ='reg:linear',\n",
    "                          colsample_bytree = 0.3,\n",
    "                          learning_rate = 0.1,\n",
    "                          max_depth = 10,\n",
    "                          alpha = 10,\n",
    "                          n_estimators = 200"
   ]
  },
  {
   "cell_type": "markdown",
   "metadata": {},
   "source": [
    "Ajustons le régresseur à l'ensemble d'apprentissage et faisons des prédictions sur l'ensemble de test en utilisant les méthodes familières .fit() et .predict()."
   ]
  },
  {
   "cell_type": "code",
   "execution_count": 67,
   "metadata": {},
   "outputs": [],
   "source": [
    "xg_reg1.fit(x_train_Site,y_train_site)\n",
    "\n",
    "preds1 = xg_reg1.predict(x_test_Site)"
   ]
  },
  {
   "cell_type": "markdown",
   "metadata": {},
   "source": [
    "Calculons le rmse en appelant la fonction mean_sqaured_error du module metrics de sklearn."
   ]
  },
  {
   "cell_type": "code",
   "execution_count": 47,
   "metadata": {},
   "outputs": [
    {
     "name": "stdout",
     "output_type": "stream",
     "text": [
      "RMSE: 2928438.372285\n",
      "R2_score :  97.84 %\n"
     ]
    }
   ],
   "source": [
    "rmse = np.sqrt(mean_squared_error(y_test_site, preds1))\n",
    "print(\"RMSE: %f\" % (rmse))\n",
    "print('R2_score : ', r2_score(y_test_site, preds1).round(4)*100, '%')"
   ]
  },
  {
   "cell_type": "code",
   "execution_count": 49,
   "metadata": {},
   "outputs": [],
   "source": [
    "import matplotlib.pyplot as plt"
   ]
  },
  {
   "cell_type": "code",
   "execution_count": 68,
   "metadata": {},
   "outputs": [
    {
     "data": {
      "image/png": "[encoded data removed]",
      "text/plain": [
       "<Figure size 576x576 with 1 Axes>"
      ]
     },
     "metadata": {
      "needs_background": "light"
     },
     "output_type": "display_data"
    }
   ],
   "source": [
    "xgb.plot_importance(xg_reg1)\n",
    "plt.rcParams['figure.figsize'] = [8, 8]\n",
    "plt.show()"
   ]
  },
  {
   "cell_type": "code",
   "execution_count": null,
   "metadata": {},
   "outputs": [],
   "source": []
  },
  {
   "cell_type": "code",
   "execution_count": null,
   "metadata": {},
   "outputs": [],
   "source": []
  },
  {
   "cell_type": "code",
   "execution_count": null,
   "metadata": {},
   "outputs": [],
   "source": []
  }
 ],
 "metadata": {
  "kernelspec": {
   "display_name": "Python 3",
   "language": "python",
   "name": "python3"
  },
  "language_info": {
   "codemirror_mode": {
    "name": "ipython",
    "version": 3
   },
   "file_extension": ".py",
   "mimetype": "text/x-python",
   "name": "python",
   "nbconvert_exporter": "python",
   "pygments_lexer": "ipython3",
   "version": "3.8.5"
  }
 },
 "nbformat": 4,
 "nbformat_minor": 4
}
